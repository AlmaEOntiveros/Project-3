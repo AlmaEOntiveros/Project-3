{
 "cells": [
  {
   "cell_type": "code",
   "execution_count": null,
   "id": "825f274d-c9a5-4b43-9ca9-4b061f53d826",
   "metadata": {},
   "outputs": [],
   "source": [
    "\"Team 1 Joint Notebook for Project 3\"\n"
   ]
  },
  {
   "cell_type": "code",
   "execution_count": 5,
   "id": "b00b8051-4a0b-4419-b40c-b2d919f365d1",
   "metadata": {},
   "outputs": [
    {
     "name": "stdout",
     "output_type": "stream",
     "text": [
      "Requirement already satisfied: dash in c:\\users\\amy\\appdata\\local\\programs\\python\\python313\\lib\\site-packages (2.18.2)\n",
      "Requirement already satisfied: Flask<3.1,>=1.0.4 in c:\\users\\amy\\appdata\\local\\programs\\python\\python313\\lib\\site-packages (from dash) (3.0.3)\n",
      "Requirement already satisfied: Werkzeug<3.1 in c:\\users\\amy\\appdata\\local\\programs\\python\\python313\\lib\\site-packages (from dash) (3.0.6)\n",
      "Requirement already satisfied: plotly>=5.0.0 in c:\\users\\amy\\appdata\\local\\programs\\python\\python313\\lib\\site-packages (from dash) (6.0.0)\n",
      "Requirement already satisfied: dash-html-components==2.0.0 in c:\\users\\amy\\appdata\\local\\programs\\python\\python313\\lib\\site-packages (from dash) (2.0.0)\n",
      "Requirement already satisfied: dash-core-components==2.0.0 in c:\\users\\amy\\appdata\\local\\programs\\python\\python313\\lib\\site-packages (from dash) (2.0.0)\n",
      "Requirement already satisfied: dash-table==5.0.0 in c:\\users\\amy\\appdata\\local\\programs\\python\\python313\\lib\\site-packages (from dash) (5.0.0)\n",
      "Requirement already satisfied: importlib-metadata in c:\\users\\amy\\appdata\\local\\programs\\python\\python313\\lib\\site-packages (from dash) (8.6.1)\n",
      "Requirement already satisfied: typing-extensions>=4.1.1 in c:\\users\\amy\\appdata\\local\\programs\\python\\python313\\lib\\site-packages (from dash) (4.12.2)\n",
      "Requirement already satisfied: requests in c:\\users\\amy\\appdata\\local\\programs\\python\\python313\\lib\\site-packages (from dash) (2.32.3)\n",
      "Requirement already satisfied: retrying in c:\\users\\amy\\appdata\\local\\programs\\python\\python313\\lib\\site-packages (from dash) (1.3.4)\n",
      "Requirement already satisfied: nest-asyncio in c:\\users\\amy\\appdata\\local\\programs\\python\\python313\\lib\\site-packages (from dash) (1.6.0)\n",
      "Requirement already satisfied: setuptools in c:\\users\\amy\\appdata\\local\\programs\\python\\python313\\lib\\site-packages (from dash) (75.3.0)\n",
      "Requirement already satisfied: Jinja2>=3.1.2 in c:\\users\\amy\\appdata\\local\\programs\\python\\python313\\lib\\site-packages (from Flask<3.1,>=1.0.4->dash) (3.1.4)\n",
      "Requirement already satisfied: itsdangerous>=2.1.2 in c:\\users\\amy\\appdata\\local\\programs\\python\\python313\\lib\\site-packages (from Flask<3.1,>=1.0.4->dash) (2.2.0)\n",
      "Requirement already satisfied: click>=8.1.3 in c:\\users\\amy\\appdata\\local\\programs\\python\\python313\\lib\\site-packages (from Flask<3.1,>=1.0.4->dash) (8.1.7)\n",
      "Requirement already satisfied: blinker>=1.6.2 in c:\\users\\amy\\appdata\\local\\programs\\python\\python313\\lib\\site-packages (from Flask<3.1,>=1.0.4->dash) (1.9.0)\n",
      "Requirement already satisfied: narwhals>=1.15.1 in c:\\users\\amy\\appdata\\local\\programs\\python\\python313\\lib\\site-packages (from plotly>=5.0.0->dash) (1.26.0)\n",
      "Requirement already satisfied: packaging in c:\\users\\amy\\appdata\\local\\programs\\python\\python313\\lib\\site-packages (from plotly>=5.0.0->dash) (24.1)\n",
      "Requirement already satisfied: MarkupSafe>=2.1.1 in c:\\users\\amy\\appdata\\local\\programs\\python\\python313\\lib\\site-packages (from Werkzeug<3.1->dash) (3.0.2)\n",
      "Requirement already satisfied: zipp>=3.20 in c:\\users\\amy\\appdata\\local\\programs\\python\\python313\\lib\\site-packages (from importlib-metadata->dash) (3.21.0)\n",
      "Requirement already satisfied: charset-normalizer<4,>=2 in c:\\users\\amy\\appdata\\local\\programs\\python\\python313\\lib\\site-packages (from requests->dash) (3.4.0)\n",
      "Requirement already satisfied: idna<4,>=2.5 in c:\\users\\amy\\appdata\\local\\programs\\python\\python313\\lib\\site-packages (from requests->dash) (3.10)\n",
      "Requirement already satisfied: urllib3<3,>=1.21.1 in c:\\users\\amy\\appdata\\local\\programs\\python\\python313\\lib\\site-packages (from requests->dash) (2.2.3)\n",
      "Requirement already satisfied: certifi>=2017.4.17 in c:\\users\\amy\\appdata\\local\\programs\\python\\python313\\lib\\site-packages (from requests->dash) (2024.8.30)\n",
      "Requirement already satisfied: six>=1.7.0 in c:\\users\\amy\\appdata\\local\\programs\\python\\python313\\lib\\site-packages (from retrying->dash) (1.16.0)\n",
      "Requirement already satisfied: colorama in c:\\users\\amy\\appdata\\local\\programs\\python\\python313\\lib\\site-packages (from click>=8.1.3->Flask<3.1,>=1.0.4->dash) (0.4.6)\n",
      "Note: you may need to restart the kernel to use updated packages.\n"
     ]
    },
    {
     "name": "stderr",
     "output_type": "stream",
     "text": [
      "\n",
      "[notice] A new release of pip is available: 24.3.1 -> 25.0.1\n",
      "[notice] To update, run: python.exe -m pip install --upgrade pip\n"
     ]
    }
   ],
   "source": [
    "pip install dash"
   ]
  },
  {
   "cell_type": "code",
   "execution_count": 7,
   "id": "8b4ab812-f2a8-463e-be61-25691cb58dd8",
   "metadata": {},
   "outputs": [],
   "source": [
    "from dash import Dash, dcc, html, Input, Output, ctx\n",
    "import pandas as pd\n",
    "import plotly.express as px\n",
    "import pymongo\n"
   ]
  },
  {
   "cell_type": "code",
   "execution_count": null,
   "id": "02b65bb5-b813-45f6-9f95-d1c2f240203d",
   "metadata": {},
   "outputs": [],
   "source": []
  }
 ],
 "metadata": {
  "kernelspec": {
   "display_name": "Python 3 (ipykernel)",
   "language": "python",
   "name": "python3"
  },
  "language_info": {
   "codemirror_mode": {
    "name": "ipython",
    "version": 3
   },
   "file_extension": ".py",
   "mimetype": "text/x-python",
   "name": "python",
   "nbconvert_exporter": "python",
   "pygments_lexer": "ipython3",
   "version": "3.13.0"
  }
 },
 "nbformat": 4,
 "nbformat_minor": 5
}
